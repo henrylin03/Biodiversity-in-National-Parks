{
 "cells": [
  {
   "cell_type": "markdown",
   "id": "b232e8f9",
   "metadata": {},
   "source": [
    "# Biodiversity in National Parks\n",
    "This is a project from CodeCademy's 'Data Scientist' Pathway, and is the 'Data Analysis Porfolio Project' capstone. Please see below for a brief, project description:\n",
    "> For this project, you will interpret data from the National Parks Service about endangered species in different parks.\n",
    ">\n",
    "> You will perform some data analysis on the conservation statuses of these species and investigate if there are any patterns or themes to the types of species that become endangered. During this project, you will analyze, clean up, and plot data as well as pose questions and seek to answer them in a meaningful way.\n",
    ">\n",
    "> After you perform your analysis, you will share your findings about the National Park Service."
   ]
  },
  {
   "cell_type": "markdown",
   "id": "7c7d992d",
   "metadata": {},
   "source": [
    "## Overview\n",
    "In this project, we will interpret data about endangered species in different parks, inspect and clean the data, and investigate any patterns or themes to the types of species that become endangered."
   ]
  },
  {
   "cell_type": "markdown",
   "id": "220180a7",
   "metadata": {},
   "source": [
    "## Setup & EDA"
   ]
  },
  {
   "cell_type": "code",
   "execution_count": 1,
   "id": "74aaf1a6",
   "metadata": {},
   "outputs": [],
   "source": [
    "# importing libraries\n",
    "import pandas as pd\n",
    "import seaborn as sns\n",
    "import matplotlib.pyplot as plt"
   ]
  },
  {
   "cell_type": "code",
   "execution_count": 2,
   "id": "557cc871",
   "metadata": {},
   "outputs": [],
   "source": [
    "# loading data\n",
    "species_info = pd.read_csv('biodiversity_starter/species_info.csv')\n",
    "observations = pd.read_csv('biodiversity_starter/observations.csv')"
   ]
  },
  {
   "cell_type": "markdown",
   "id": "a75a9914",
   "metadata": {},
   "source": [
    "### Inspecting & cleaning"
   ]
  },
  {
   "cell_type": "markdown",
   "id": "e043ad12",
   "metadata": {},
   "source": [
    "#### `species_info`"
   ]
  },
  {
   "cell_type": "code",
   "execution_count": 3,
   "id": "755ad427",
   "metadata": {
    "scrolled": true
   },
   "outputs": [
    {
     "data": {
      "text/html": [
       "<div>\n",
       "<style scoped>\n",
       "    .dataframe tbody tr th:only-of-type {\n",
       "        vertical-align: middle;\n",
       "    }\n",
       "\n",
       "    .dataframe tbody tr th {\n",
       "        vertical-align: top;\n",
       "    }\n",
       "\n",
       "    .dataframe thead th {\n",
       "        text-align: right;\n",
       "    }\n",
       "</style>\n",
       "<table border=\"1\" class=\"dataframe\">\n",
       "  <thead>\n",
       "    <tr style=\"text-align: right;\">\n",
       "      <th></th>\n",
       "      <th>category</th>\n",
       "      <th>scientific_name</th>\n",
       "      <th>common_names</th>\n",
       "      <th>conservation_status</th>\n",
       "    </tr>\n",
       "  </thead>\n",
       "  <tbody>\n",
       "    <tr>\n",
       "      <th>0</th>\n",
       "      <td>Mammal</td>\n",
       "      <td>Clethrionomys gapperi gapperi</td>\n",
       "      <td>Gapper's Red-Backed Vole</td>\n",
       "      <td>NaN</td>\n",
       "    </tr>\n",
       "    <tr>\n",
       "      <th>1</th>\n",
       "      <td>Mammal</td>\n",
       "      <td>Bos bison</td>\n",
       "      <td>American Bison, Bison</td>\n",
       "      <td>NaN</td>\n",
       "    </tr>\n",
       "    <tr>\n",
       "      <th>2</th>\n",
       "      <td>Mammal</td>\n",
       "      <td>Bos taurus</td>\n",
       "      <td>Aurochs, Aurochs, Domestic Cattle (Feral), Dom...</td>\n",
       "      <td>NaN</td>\n",
       "    </tr>\n",
       "    <tr>\n",
       "      <th>3</th>\n",
       "      <td>Mammal</td>\n",
       "      <td>Ovis aries</td>\n",
       "      <td>Domestic Sheep, Mouflon, Red Sheep, Sheep (Feral)</td>\n",
       "      <td>NaN</td>\n",
       "    </tr>\n",
       "    <tr>\n",
       "      <th>4</th>\n",
       "      <td>Mammal</td>\n",
       "      <td>Cervus elaphus</td>\n",
       "      <td>Wapiti Or Elk</td>\n",
       "      <td>NaN</td>\n",
       "    </tr>\n",
       "  </tbody>\n",
       "</table>\n",
       "</div>"
      ],
      "text/plain": [
       "  category                scientific_name  \\\n",
       "0   Mammal  Clethrionomys gapperi gapperi   \n",
       "1   Mammal                      Bos bison   \n",
       "2   Mammal                     Bos taurus   \n",
       "3   Mammal                     Ovis aries   \n",
       "4   Mammal                 Cervus elaphus   \n",
       "\n",
       "                                        common_names conservation_status  \n",
       "0                           Gapper's Red-Backed Vole                 NaN  \n",
       "1                              American Bison, Bison                 NaN  \n",
       "2  Aurochs, Aurochs, Domestic Cattle (Feral), Dom...                 NaN  \n",
       "3  Domestic Sheep, Mouflon, Red Sheep, Sheep (Feral)                 NaN  \n",
       "4                                      Wapiti Or Elk                 NaN  "
      ]
     },
     "execution_count": 3,
     "metadata": {},
     "output_type": "execute_result"
    }
   ],
   "source": [
    "species_info.head()"
   ]
  },
  {
   "cell_type": "code",
   "execution_count": 4,
   "id": "0417a0e8",
   "metadata": {
    "scrolled": true
   },
   "outputs": [
    {
     "name": "stdout",
     "output_type": "stream",
     "text": [
      "<class 'pandas.core.frame.DataFrame'>\n",
      "RangeIndex: 5824 entries, 0 to 5823\n",
      "Data columns (total 4 columns):\n",
      " #   Column               Non-Null Count  Dtype \n",
      "---  ------               --------------  ----- \n",
      " 0   category             5824 non-null   object\n",
      " 1   scientific_name      5824 non-null   object\n",
      " 2   common_names         5824 non-null   object\n",
      " 3   conservation_status  191 non-null    object\n",
      "dtypes: object(4)\n",
      "memory usage: 182.1+ KB\n"
     ]
    }
   ],
   "source": [
    "species_info.info()"
   ]
  },
  {
   "cell_type": "code",
   "execution_count": 5,
   "id": "d1c75596",
   "metadata": {
    "scrolled": true
   },
   "outputs": [
    {
     "data": {
      "text/plain": [
       "'category'"
      ]
     },
     "metadata": {},
     "output_type": "display_data"
    },
    {
     "data": {
      "text/plain": [
       "Vascular Plant       4470\n",
       "Bird                  521\n",
       "Nonvascular Plant     333\n",
       "Mammal                214\n",
       "Fish                  127\n",
       "Amphibian              80\n",
       "Reptile                79\n",
       "Name: category, dtype: int64"
      ]
     },
     "metadata": {},
     "output_type": "display_data"
    },
    {
     "data": {
      "text/plain": [
       "'scientific_name'"
      ]
     },
     "metadata": {},
     "output_type": "display_data"
    },
    {
     "data": {
      "text/plain": [
       "Puma concolor              3\n",
       "Myotis lucifugus           3\n",
       "Columba livia              3\n",
       "Streptopelia decaocto      3\n",
       "Castor canadensis          3\n",
       "                          ..\n",
       "Physocarpus capitatus      1\n",
       "Esox masquinongy           1\n",
       "Scutellaria lateriflora    1\n",
       "Geranium californicum      1\n",
       "Hieracium paniculatum      1\n",
       "Name: scientific_name, Length: 5541, dtype: int64"
      ]
     },
     "metadata": {},
     "output_type": "display_data"
    },
    {
     "data": {
      "text/plain": [
       "'common_names'"
      ]
     },
     "metadata": {},
     "output_type": "display_data"
    },
    {
     "data": {
      "text/plain": [
       "Dicranum Moss                    7\n",
       "Brachythecium Moss               7\n",
       "Bryum Moss                       6\n",
       "Sphagnum                         6\n",
       "Panic Grass                      6\n",
       "                                ..\n",
       "Great Basin Spadefoot            1\n",
       "Thin-Fruited Umbrella Sedge      1\n",
       "Boxelder                         1\n",
       "Maryland Meadowbeauty            1\n",
       "Southern Two-Lined Salamander    1\n",
       "Name: common_names, Length: 5504, dtype: int64"
      ]
     },
     "metadata": {},
     "output_type": "display_data"
    },
    {
     "data": {
      "text/plain": [
       "'conservation_status'"
      ]
     },
     "metadata": {},
     "output_type": "display_data"
    },
    {
     "data": {
      "text/plain": [
       "Species of Concern    161\n",
       "Endangered             16\n",
       "Threatened             10\n",
       "In Recovery             4\n",
       "Name: conservation_status, dtype: int64"
      ]
     },
     "metadata": {},
     "output_type": "display_data"
    }
   ],
   "source": [
    "for col in species_info.columns:\n",
    "    display(col, species_info[col].value_counts())"
   ]
  },
  {
   "cell_type": "markdown",
   "id": "09ffeae1",
   "metadata": {},
   "source": [
    "##### Missing\n",
    "`conversation_status` is the only column with missing values but are difficult to impute as categories do not reflect those of the [IUCN Red List](https://www.iucnredlist.org/#:~:text=It%20divides%20species%20into%20nine,in%20the%20Wild%20and%20Extinct.). Also, would not be dropping those species, as their presence would likely be important in later analysis to indicate their existence in the habitat scope of the data. \n",
    "\n",
    "No further actions."
   ]
  },
  {
   "cell_type": "code",
   "execution_count": 6,
   "id": "981a8e04",
   "metadata": {
    "scrolled": true
   },
   "outputs": [
    {
     "data": {
      "text/plain": [
       "category                  0\n",
       "scientific_name           0\n",
       "common_names              0\n",
       "conservation_status    5633\n",
       "dtype: int64"
      ]
     },
     "execution_count": 6,
     "metadata": {},
     "output_type": "execute_result"
    }
   ],
   "source": [
    "species_info.isna().sum()"
   ]
  },
  {
   "cell_type": "code",
   "execution_count": 7,
   "id": "acc2226b",
   "metadata": {
    "scrolled": false
   },
   "outputs": [
    {
     "data": {
      "text/html": [
       "<div>\n",
       "<style scoped>\n",
       "    .dataframe tbody tr th:only-of-type {\n",
       "        vertical-align: middle;\n",
       "    }\n",
       "\n",
       "    .dataframe tbody tr th {\n",
       "        vertical-align: top;\n",
       "    }\n",
       "\n",
       "    .dataframe thead th {\n",
       "        text-align: right;\n",
       "    }\n",
       "</style>\n",
       "<table border=\"1\" class=\"dataframe\">\n",
       "  <thead>\n",
       "    <tr style=\"text-align: right;\">\n",
       "      <th></th>\n",
       "      <th>category</th>\n",
       "      <th>scientific_name</th>\n",
       "      <th>common_names</th>\n",
       "      <th>conservation_status</th>\n",
       "    </tr>\n",
       "  </thead>\n",
       "  <tbody>\n",
       "    <tr>\n",
       "      <th>0</th>\n",
       "      <td>Mammal</td>\n",
       "      <td>Clethrionomys gapperi gapperi</td>\n",
       "      <td>Gapper's Red-Backed Vole</td>\n",
       "      <td>NaN</td>\n",
       "    </tr>\n",
       "    <tr>\n",
       "      <th>1</th>\n",
       "      <td>Mammal</td>\n",
       "      <td>Bos bison</td>\n",
       "      <td>American Bison, Bison</td>\n",
       "      <td>NaN</td>\n",
       "    </tr>\n",
       "    <tr>\n",
       "      <th>2</th>\n",
       "      <td>Mammal</td>\n",
       "      <td>Bos taurus</td>\n",
       "      <td>Aurochs, Aurochs, Domestic Cattle (Feral), Dom...</td>\n",
       "      <td>NaN</td>\n",
       "    </tr>\n",
       "    <tr>\n",
       "      <th>3</th>\n",
       "      <td>Mammal</td>\n",
       "      <td>Ovis aries</td>\n",
       "      <td>Domestic Sheep, Mouflon, Red Sheep, Sheep (Feral)</td>\n",
       "      <td>NaN</td>\n",
       "    </tr>\n",
       "    <tr>\n",
       "      <th>4</th>\n",
       "      <td>Mammal</td>\n",
       "      <td>Cervus elaphus</td>\n",
       "      <td>Wapiti Or Elk</td>\n",
       "      <td>NaN</td>\n",
       "    </tr>\n",
       "    <tr>\n",
       "      <th>...</th>\n",
       "      <td>...</td>\n",
       "      <td>...</td>\n",
       "      <td>...</td>\n",
       "      <td>...</td>\n",
       "    </tr>\n",
       "    <tr>\n",
       "      <th>5819</th>\n",
       "      <td>Vascular Plant</td>\n",
       "      <td>Solanum parishii</td>\n",
       "      <td>Parish's Nightshade</td>\n",
       "      <td>NaN</td>\n",
       "    </tr>\n",
       "    <tr>\n",
       "      <th>5820</th>\n",
       "      <td>Vascular Plant</td>\n",
       "      <td>Solanum xanti</td>\n",
       "      <td>Chaparral Nightshade, Purple Nightshade</td>\n",
       "      <td>NaN</td>\n",
       "    </tr>\n",
       "    <tr>\n",
       "      <th>5821</th>\n",
       "      <td>Vascular Plant</td>\n",
       "      <td>Parthenocissus vitacea</td>\n",
       "      <td>Thicket Creeper, Virginia Creeper, Woodbine</td>\n",
       "      <td>NaN</td>\n",
       "    </tr>\n",
       "    <tr>\n",
       "      <th>5822</th>\n",
       "      <td>Vascular Plant</td>\n",
       "      <td>Vitis californica</td>\n",
       "      <td>California Grape, California Wild Grape</td>\n",
       "      <td>NaN</td>\n",
       "    </tr>\n",
       "    <tr>\n",
       "      <th>5823</th>\n",
       "      <td>Vascular Plant</td>\n",
       "      <td>Tribulus terrestris</td>\n",
       "      <td>Bullhead, Caltrop, Goathead, Mexican Sandbur, ...</td>\n",
       "      <td>NaN</td>\n",
       "    </tr>\n",
       "  </tbody>\n",
       "</table>\n",
       "<p>5633 rows × 4 columns</p>\n",
       "</div>"
      ],
      "text/plain": [
       "            category                scientific_name  \\\n",
       "0             Mammal  Clethrionomys gapperi gapperi   \n",
       "1             Mammal                      Bos bison   \n",
       "2             Mammal                     Bos taurus   \n",
       "3             Mammal                     Ovis aries   \n",
       "4             Mammal                 Cervus elaphus   \n",
       "...              ...                            ...   \n",
       "5819  Vascular Plant               Solanum parishii   \n",
       "5820  Vascular Plant                  Solanum xanti   \n",
       "5821  Vascular Plant         Parthenocissus vitacea   \n",
       "5822  Vascular Plant              Vitis californica   \n",
       "5823  Vascular Plant            Tribulus terrestris   \n",
       "\n",
       "                                           common_names conservation_status  \n",
       "0                              Gapper's Red-Backed Vole                 NaN  \n",
       "1                                 American Bison, Bison                 NaN  \n",
       "2     Aurochs, Aurochs, Domestic Cattle (Feral), Dom...                 NaN  \n",
       "3     Domestic Sheep, Mouflon, Red Sheep, Sheep (Feral)                 NaN  \n",
       "4                                         Wapiti Or Elk                 NaN  \n",
       "...                                                 ...                 ...  \n",
       "5819                                Parish's Nightshade                 NaN  \n",
       "5820            Chaparral Nightshade, Purple Nightshade                 NaN  \n",
       "5821        Thicket Creeper, Virginia Creeper, Woodbine                 NaN  \n",
       "5822            California Grape, California Wild Grape                 NaN  \n",
       "5823  Bullhead, Caltrop, Goathead, Mexican Sandbur, ...                 NaN  \n",
       "\n",
       "[5633 rows x 4 columns]"
      ]
     },
     "execution_count": 7,
     "metadata": {},
     "output_type": "execute_result"
    }
   ],
   "source": [
    "species_info[species_info.isnull().any(axis=1)]"
   ]
  },
  {
   "cell_type": "code",
   "execution_count": 8,
   "id": "0a645b7e",
   "metadata": {},
   "outputs": [],
   "source": [
    "# # replacing NaN with 'None' status\n",
    "# species_info.conservation_status = species_info.conservation_status.fillna('None')\n",
    "\n",
    "# species_info.head()"
   ]
  },
  {
   "cell_type": "markdown",
   "id": "8537bf75",
   "metadata": {},
   "source": [
    "##### Duplication"
   ]
  },
  {
   "cell_type": "markdown",
   "id": "6d6f15a4",
   "metadata": {},
   "source": [
    "Initially, no duplication across all fields:"
   ]
  },
  {
   "cell_type": "code",
   "execution_count": 9,
   "id": "1fe61a63",
   "metadata": {
    "scrolled": true
   },
   "outputs": [
    {
     "data": {
      "text/html": [
       "<div>\n",
       "<style scoped>\n",
       "    .dataframe tbody tr th:only-of-type {\n",
       "        vertical-align: middle;\n",
       "    }\n",
       "\n",
       "    .dataframe tbody tr th {\n",
       "        vertical-align: top;\n",
       "    }\n",
       "\n",
       "    .dataframe thead th {\n",
       "        text-align: right;\n",
       "    }\n",
       "</style>\n",
       "<table border=\"1\" class=\"dataframe\">\n",
       "  <thead>\n",
       "    <tr style=\"text-align: right;\">\n",
       "      <th></th>\n",
       "      <th>category</th>\n",
       "      <th>scientific_name</th>\n",
       "      <th>common_names</th>\n",
       "      <th>conservation_status</th>\n",
       "    </tr>\n",
       "  </thead>\n",
       "  <tbody>\n",
       "  </tbody>\n",
       "</table>\n",
       "</div>"
      ],
      "text/plain": [
       "Empty DataFrame\n",
       "Columns: [category, scientific_name, common_names, conservation_status]\n",
       "Index: []"
      ]
     },
     "execution_count": 9,
     "metadata": {},
     "output_type": "execute_result"
    }
   ],
   "source": [
    "species_info[species_info.duplicated()]"
   ]
  },
  {
   "cell_type": "markdown",
   "id": "8c094914",
   "metadata": {},
   "source": [
    "However, from above, there were multiple `scientific_name`s in the `.value_count()`, indicating potential duplication. Each row should be a unique species.\n",
    "\n",
    "How to handle duplicates will depend on the nature of the duplicates."
   ]
  },
  {
   "cell_type": "markdown",
   "id": "18737ce2",
   "metadata": {},
   "source": [
    "**Category 1: duplicated names of species**\n",
    "\n",
    "Where both the scientific and common names of a species are duplicated:"
   ]
  },
  {
   "cell_type": "code",
   "execution_count": 10,
   "id": "6b8122b5",
   "metadata": {
    "scrolled": false
   },
   "outputs": [
    {
     "data": {
      "text/plain": [
       "Oncorhynchus mykiss    2\n",
       "Canis lupus            2\n",
       "Name: scientific_name, dtype: int64"
      ]
     },
     "execution_count": 10,
     "metadata": {},
     "output_type": "execute_result"
    }
   ],
   "source": [
    "species_names_dup = species_info[species_info.duplicated(subset=['scientific_name', 'common_names'], keep=False)]\\\n",
    "                        .sort_values(['scientific_name', 'category'])\n",
    "\n",
    "species_names_dup.scientific_name.value_counts()"
   ]
  },
  {
   "cell_type": "code",
   "execution_count": 11,
   "id": "927757cb",
   "metadata": {
    "scrolled": false
   },
   "outputs": [
    {
     "data": {
      "text/html": [
       "<div>\n",
       "<style scoped>\n",
       "    .dataframe tbody tr th:only-of-type {\n",
       "        vertical-align: middle;\n",
       "    }\n",
       "\n",
       "    .dataframe tbody tr th {\n",
       "        vertical-align: top;\n",
       "    }\n",
       "\n",
       "    .dataframe thead th {\n",
       "        text-align: right;\n",
       "    }\n",
       "</style>\n",
       "<table border=\"1\" class=\"dataframe\">\n",
       "  <thead>\n",
       "    <tr style=\"text-align: right;\">\n",
       "      <th></th>\n",
       "      <th>category</th>\n",
       "      <th>scientific_name</th>\n",
       "      <th>common_names</th>\n",
       "      <th>conservation_status</th>\n",
       "    </tr>\n",
       "  </thead>\n",
       "  <tbody>\n",
       "    <tr>\n",
       "      <th>3020</th>\n",
       "      <td>Mammal</td>\n",
       "      <td>Canis lupus</td>\n",
       "      <td>Gray Wolf, Wolf</td>\n",
       "      <td>In Recovery</td>\n",
       "    </tr>\n",
       "    <tr>\n",
       "      <th>4448</th>\n",
       "      <td>Mammal</td>\n",
       "      <td>Canis lupus</td>\n",
       "      <td>Gray Wolf, Wolf</td>\n",
       "      <td>Endangered</td>\n",
       "    </tr>\n",
       "    <tr>\n",
       "      <th>560</th>\n",
       "      <td>Fish</td>\n",
       "      <td>Oncorhynchus mykiss</td>\n",
       "      <td>Rainbow Trout</td>\n",
       "      <td>NaN</td>\n",
       "    </tr>\n",
       "    <tr>\n",
       "      <th>3283</th>\n",
       "      <td>Fish</td>\n",
       "      <td>Oncorhynchus mykiss</td>\n",
       "      <td>Rainbow Trout</td>\n",
       "      <td>Threatened</td>\n",
       "    </tr>\n",
       "  </tbody>\n",
       "</table>\n",
       "</div>"
      ],
      "text/plain": [
       "     category      scientific_name     common_names conservation_status\n",
       "3020   Mammal          Canis lupus  Gray Wolf, Wolf         In Recovery\n",
       "4448   Mammal          Canis lupus  Gray Wolf, Wolf          Endangered\n",
       "560      Fish  Oncorhynchus mykiss    Rainbow Trout                 NaN\n",
       "3283     Fish  Oncorhynchus mykiss    Rainbow Trout          Threatened"
      ]
     },
     "execution_count": 11,
     "metadata": {},
     "output_type": "execute_result"
    }
   ],
   "source": [
    "species_names_dup"
   ]
  },
  {
   "cell_type": "markdown",
   "id": "aeb1404d",
   "metadata": {},
   "source": [
    "***Canis lupus***\n",
    "\n",
    "As of 4 Jan 2021, the Fish and Wildlife Service ruled that *Canis lupus* is not classified as threatened or endangered, but the Mexican wolf subspecies (*Canis lupus baileyi*) is endangered ([Source](https://www.federalregister.gov/documents/2020/11/03/2020-24171/endangered-and-threatened-wildlife-and-plants-removing-the-gray-wolf-canis-lupus-from-the-list-of)). This likely explains the two separate entries for *Canis lupus*, with difference `conservation_status` values.\n",
    "\n",
    "Because each row is a species, and [a subspecies cannot be recognised independently](https://en.wikipedia.org/wiki/Subspecies#Nominotypical_subspecies_and_subspecies_autonyms), we should not add subspecies suffixes to `scientific_name` to distinguish. Instead, we will add further `common_names`:"
   ]
  },
  {
   "cell_type": "code",
   "execution_count": 12,
   "id": "e2cc2268",
   "metadata": {},
   "outputs": [
    {
     "data": {
      "text/html": [
       "<div>\n",
       "<style scoped>\n",
       "    .dataframe tbody tr th:only-of-type {\n",
       "        vertical-align: middle;\n",
       "    }\n",
       "\n",
       "    .dataframe tbody tr th {\n",
       "        vertical-align: top;\n",
       "    }\n",
       "\n",
       "    .dataframe thead th {\n",
       "        text-align: right;\n",
       "    }\n",
       "</style>\n",
       "<table border=\"1\" class=\"dataframe\">\n",
       "  <thead>\n",
       "    <tr style=\"text-align: right;\">\n",
       "      <th></th>\n",
       "      <th>category</th>\n",
       "      <th>scientific_name</th>\n",
       "      <th>common_names</th>\n",
       "      <th>conservation_status</th>\n",
       "    </tr>\n",
       "  </thead>\n",
       "  <tbody>\n",
       "    <tr>\n",
       "      <th>8</th>\n",
       "      <td>Mammal</td>\n",
       "      <td>Canis lupus</td>\n",
       "      <td>Gray Wolf</td>\n",
       "      <td>Endangered</td>\n",
       "    </tr>\n",
       "    <tr>\n",
       "      <th>3020</th>\n",
       "      <td>Mammal</td>\n",
       "      <td>Canis lupus</td>\n",
       "      <td>Gray Wolf, Wolf</td>\n",
       "      <td>In Recovery</td>\n",
       "    </tr>\n",
       "    <tr>\n",
       "      <th>4448</th>\n",
       "      <td>Mammal</td>\n",
       "      <td>Canis lupus</td>\n",
       "      <td>Mexican Wolf, Lobo</td>\n",
       "      <td>Endangered</td>\n",
       "    </tr>\n",
       "  </tbody>\n",
       "</table>\n",
       "</div>"
      ],
      "text/plain": [
       "     category scientific_name        common_names conservation_status\n",
       "8      Mammal     Canis lupus           Gray Wolf          Endangered\n",
       "3020   Mammal     Canis lupus     Gray Wolf, Wolf         In Recovery\n",
       "4448   Mammal     Canis lupus  Mexican Wolf, Lobo          Endangered"
      ]
     },
     "execution_count": 12,
     "metadata": {},
     "output_type": "execute_result"
    }
   ],
   "source": [
    "# creating cleaned `species_info` df\n",
    "species_info_cleaned = species_info\n",
    "\n",
    "species_info_cleaned.at[4448,'common_names'] = 'Mexican Wolf, Lobo'\n",
    "\n",
    "species_info_cleaned[species_info_cleaned.scientific_name=='Canis lupus']"
   ]
  },
  {
   "cell_type": "markdown",
   "id": "27daf8d0",
   "metadata": {},
   "source": [
    "From above, we will also drop the *Canis lupus* entry at index 8:"
   ]
  },
  {
   "cell_type": "code",
   "execution_count": 13,
   "id": "6e116cff",
   "metadata": {
    "scrolled": true
   },
   "outputs": [
    {
     "data": {
      "text/html": [
       "<div>\n",
       "<style scoped>\n",
       "    .dataframe tbody tr th:only-of-type {\n",
       "        vertical-align: middle;\n",
       "    }\n",
       "\n",
       "    .dataframe tbody tr th {\n",
       "        vertical-align: top;\n",
       "    }\n",
       "\n",
       "    .dataframe thead th {\n",
       "        text-align: right;\n",
       "    }\n",
       "</style>\n",
       "<table border=\"1\" class=\"dataframe\">\n",
       "  <thead>\n",
       "    <tr style=\"text-align: right;\">\n",
       "      <th></th>\n",
       "      <th>category</th>\n",
       "      <th>scientific_name</th>\n",
       "      <th>common_names</th>\n",
       "      <th>conservation_status</th>\n",
       "    </tr>\n",
       "  </thead>\n",
       "  <tbody>\n",
       "    <tr>\n",
       "      <th>3020</th>\n",
       "      <td>Mammal</td>\n",
       "      <td>Canis lupus</td>\n",
       "      <td>Gray Wolf, Wolf</td>\n",
       "      <td>In Recovery</td>\n",
       "    </tr>\n",
       "    <tr>\n",
       "      <th>4448</th>\n",
       "      <td>Mammal</td>\n",
       "      <td>Canis lupus</td>\n",
       "      <td>Mexican Wolf, Lobo</td>\n",
       "      <td>Endangered</td>\n",
       "    </tr>\n",
       "  </tbody>\n",
       "</table>\n",
       "</div>"
      ],
      "text/plain": [
       "     category scientific_name        common_names conservation_status\n",
       "3020   Mammal     Canis lupus     Gray Wolf, Wolf         In Recovery\n",
       "4448   Mammal     Canis lupus  Mexican Wolf, Lobo          Endangered"
      ]
     },
     "execution_count": 13,
     "metadata": {},
     "output_type": "execute_result"
    }
   ],
   "source": [
    "species_info_cleaned = species_info_cleaned.drop(8)\n",
    "\n",
    "species_info_cleaned[species_info_cleaned.scientific_name=='Canis lupus']"
   ]
  },
  {
   "cell_type": "markdown",
   "id": "0dd86cbc",
   "metadata": {},
   "source": [
    "***Oncorhynchus mykiss***\n",
    "\n",
    "As of 17 Feb 2022, the [NOAA Fisheries](https://www.fisheries.noaa.gov//species/steelhead-trout#overview) (US Dept of Commerce) has listed one distinct population segment ('DPS') (the 'Southern California DPS') as endangered, and 10 DPS and 1 experimental, non-essential population as threatened. This likely explains the duplication.\n",
    "\n",
    "Similarly to above, DPS suffixes should not be added to `scientific_name`. To distinguish between the two rows, we will:\n",
    "1. Update the `common_names`, and\n",
    "2. Update the `conservation_status`"
   ]
  },
  {
   "cell_type": "code",
   "execution_count": 14,
   "id": "86854269",
   "metadata": {
    "scrolled": true
   },
   "outputs": [
    {
     "data": {
      "text/html": [
       "<div>\n",
       "<style scoped>\n",
       "    .dataframe tbody tr th:only-of-type {\n",
       "        vertical-align: middle;\n",
       "    }\n",
       "\n",
       "    .dataframe tbody tr th {\n",
       "        vertical-align: top;\n",
       "    }\n",
       "\n",
       "    .dataframe thead th {\n",
       "        text-align: right;\n",
       "    }\n",
       "</style>\n",
       "<table border=\"1\" class=\"dataframe\">\n",
       "  <thead>\n",
       "    <tr style=\"text-align: right;\">\n",
       "      <th></th>\n",
       "      <th>category</th>\n",
       "      <th>scientific_name</th>\n",
       "      <th>common_names</th>\n",
       "      <th>conservation_status</th>\n",
       "    </tr>\n",
       "  </thead>\n",
       "  <tbody>\n",
       "    <tr>\n",
       "      <th>560</th>\n",
       "      <td>Fish</td>\n",
       "      <td>Oncorhynchus mykiss</td>\n",
       "      <td>Rainbow Trout</td>\n",
       "      <td>NaN</td>\n",
       "    </tr>\n",
       "    <tr>\n",
       "      <th>3283</th>\n",
       "      <td>Fish</td>\n",
       "      <td>Oncorhynchus mykiss</td>\n",
       "      <td>Rainbow Trout</td>\n",
       "      <td>Threatened</td>\n",
       "    </tr>\n",
       "  </tbody>\n",
       "</table>\n",
       "</div>"
      ],
      "text/plain": [
       "     category      scientific_name   common_names conservation_status\n",
       "560      Fish  Oncorhynchus mykiss  Rainbow Trout                 NaN\n",
       "3283     Fish  Oncorhynchus mykiss  Rainbow Trout          Threatened"
      ]
     },
     "execution_count": 14,
     "metadata": {},
     "output_type": "execute_result"
    }
   ],
   "source": [
    "species_info_cleaned[species_info_cleaned.scientific_name=='Oncorhynchus mykiss']"
   ]
  },
  {
   "cell_type": "code",
   "execution_count": 15,
   "id": "4f16d848",
   "metadata": {
    "scrolled": true
   },
   "outputs": [
    {
     "data": {
      "text/html": [
       "<div>\n",
       "<style scoped>\n",
       "    .dataframe tbody tr th:only-of-type {\n",
       "        vertical-align: middle;\n",
       "    }\n",
       "\n",
       "    .dataframe tbody tr th {\n",
       "        vertical-align: top;\n",
       "    }\n",
       "\n",
       "    .dataframe thead th {\n",
       "        text-align: right;\n",
       "    }\n",
       "</style>\n",
       "<table border=\"1\" class=\"dataframe\">\n",
       "  <thead>\n",
       "    <tr style=\"text-align: right;\">\n",
       "      <th></th>\n",
       "      <th>category</th>\n",
       "      <th>scientific_name</th>\n",
       "      <th>common_names</th>\n",
       "      <th>conservation_status</th>\n",
       "    </tr>\n",
       "  </thead>\n",
       "  <tbody>\n",
       "    <tr>\n",
       "      <th>560</th>\n",
       "      <td>Fish</td>\n",
       "      <td>Oncorhynchus mykiss</td>\n",
       "      <td>Southern California Steelhead</td>\n",
       "      <td>Endangered</td>\n",
       "    </tr>\n",
       "    <tr>\n",
       "      <th>3283</th>\n",
       "      <td>Fish</td>\n",
       "      <td>Oncorhynchus mykiss</td>\n",
       "      <td>Rainbow Trout, Steelhead Trout, Redband Trout</td>\n",
       "      <td>Threatened</td>\n",
       "    </tr>\n",
       "  </tbody>\n",
       "</table>\n",
       "</div>"
      ],
      "text/plain": [
       "     category      scientific_name  \\\n",
       "560      Fish  Oncorhynchus mykiss   \n",
       "3283     Fish  Oncorhynchus mykiss   \n",
       "\n",
       "                                       common_names conservation_status  \n",
       "560                   Southern California Steelhead          Endangered  \n",
       "3283  Rainbow Trout, Steelhead Trout, Redband Trout          Threatened  "
      ]
     },
     "execution_count": 15,
     "metadata": {},
     "output_type": "execute_result"
    }
   ],
   "source": [
    "species_info_cleaned.at[560,'common_names'] = 'Southern California Steelhead'\n",
    "species_info_cleaned.at[560,'conservation_status'] = 'Endangered'\n",
    "species_info_cleaned.at[3283, 'common_names'] = 'Rainbow Trout, Steelhead Trout, Redband Trout'\n",
    "\n",
    "species_info_cleaned[species_info_cleaned.scientific_name=='Oncorhynchus mykiss']"
   ]
  },
  {
   "cell_type": "markdown",
   "id": "0cf899b1",
   "metadata": {},
   "source": [
    "**Category 2: same scientific name and conservation status**\n",
    "\n",
    "If the species has the same scientific name and conservation status, it likely means there are subspecies of other subdivisions of the species. However, because the scope of the analysis will be on the `conservation_status`, we can drop these duplicates as those subdivisions are unlikely material."
   ]
  },
  {
   "cell_type": "code",
   "execution_count": 16,
   "id": "aa8b5fa8",
   "metadata": {},
   "outputs": [
    {
     "data": {
      "text/html": [
       "<div>\n",
       "<style scoped>\n",
       "    .dataframe tbody tr th:only-of-type {\n",
       "        vertical-align: middle;\n",
       "    }\n",
       "\n",
       "    .dataframe tbody tr th {\n",
       "        vertical-align: top;\n",
       "    }\n",
       "\n",
       "    .dataframe thead th {\n",
       "        text-align: right;\n",
       "    }\n",
       "</style>\n",
       "<table border=\"1\" class=\"dataframe\">\n",
       "  <thead>\n",
       "    <tr style=\"text-align: right;\">\n",
       "      <th></th>\n",
       "      <th>category</th>\n",
       "      <th>scientific_name</th>\n",
       "      <th>common_names</th>\n",
       "      <th>conservation_status</th>\n",
       "    </tr>\n",
       "  </thead>\n",
       "  <tbody>\n",
       "    <tr>\n",
       "      <th>5553</th>\n",
       "      <td>Vascular Plant</td>\n",
       "      <td>Agrostis capillaris</td>\n",
       "      <td>Colonial Bent, Colonial Bentgrass</td>\n",
       "      <td>NaN</td>\n",
       "    </tr>\n",
       "    <tr>\n",
       "      <th>2132</th>\n",
       "      <td>Vascular Plant</td>\n",
       "      <td>Agrostis capillaris</td>\n",
       "      <td>Rhode Island Bent</td>\n",
       "      <td>NaN</td>\n",
       "    </tr>\n",
       "    <tr>\n",
       "      <th>5554</th>\n",
       "      <td>Vascular Plant</td>\n",
       "      <td>Agrostis gigantea</td>\n",
       "      <td>Black Bent, Redtop, Water Bentgrass</td>\n",
       "      <td>NaN</td>\n",
       "    </tr>\n",
       "    <tr>\n",
       "      <th>2134</th>\n",
       "      <td>Vascular Plant</td>\n",
       "      <td>Agrostis gigantea</td>\n",
       "      <td>Redtop</td>\n",
       "      <td>NaN</td>\n",
       "    </tr>\n",
       "    <tr>\n",
       "      <th>4178</th>\n",
       "      <td>Vascular Plant</td>\n",
       "      <td>Agrostis mertensii</td>\n",
       "      <td>Arctic Bentgrass, Northern Bentgrass</td>\n",
       "      <td>NaN</td>\n",
       "    </tr>\n",
       "    <tr>\n",
       "      <th>...</th>\n",
       "      <td>...</td>\n",
       "      <td>...</td>\n",
       "      <td>...</td>\n",
       "      <td>...</td>\n",
       "    </tr>\n",
       "    <tr>\n",
       "      <th>5643</th>\n",
       "      <td>Vascular Plant</td>\n",
       "      <td>Vulpia myuros</td>\n",
       "      <td>Foxtail Fescue, Rattail Fescue, Rat-Tail Fescu...</td>\n",
       "      <td>NaN</td>\n",
       "    </tr>\n",
       "    <tr>\n",
       "      <th>4290</th>\n",
       "      <td>Vascular Plant</td>\n",
       "      <td>Vulpia octoflora</td>\n",
       "      <td>Eight-Flower Six-Weeks Grass, Pullout Grass, S...</td>\n",
       "      <td>NaN</td>\n",
       "    </tr>\n",
       "    <tr>\n",
       "      <th>2331</th>\n",
       "      <td>Vascular Plant</td>\n",
       "      <td>Vulpia octoflora</td>\n",
       "      <td>Annual Fescue</td>\n",
       "      <td>NaN</td>\n",
       "    </tr>\n",
       "    <tr>\n",
       "      <th>632</th>\n",
       "      <td>Vascular Plant</td>\n",
       "      <td>Zizia aptera</td>\n",
       "      <td>Golden Alexanders</td>\n",
       "      <td>NaN</td>\n",
       "    </tr>\n",
       "    <tr>\n",
       "      <th>3347</th>\n",
       "      <td>Vascular Plant</td>\n",
       "      <td>Zizia aptera</td>\n",
       "      <td>Heartleaf Alexanders, Heart-Leaf Alexanders, M...</td>\n",
       "      <td>NaN</td>\n",
       "    </tr>\n",
       "  </tbody>\n",
       "</table>\n",
       "<p>552 rows × 4 columns</p>\n",
       "</div>"
      ],
      "text/plain": [
       "            category      scientific_name  \\\n",
       "5553  Vascular Plant  Agrostis capillaris   \n",
       "2132  Vascular Plant  Agrostis capillaris   \n",
       "5554  Vascular Plant    Agrostis gigantea   \n",
       "2134  Vascular Plant    Agrostis gigantea   \n",
       "4178  Vascular Plant   Agrostis mertensii   \n",
       "...              ...                  ...   \n",
       "5643  Vascular Plant        Vulpia myuros   \n",
       "4290  Vascular Plant     Vulpia octoflora   \n",
       "2331  Vascular Plant     Vulpia octoflora   \n",
       "632   Vascular Plant         Zizia aptera   \n",
       "3347  Vascular Plant         Zizia aptera   \n",
       "\n",
       "                                           common_names conservation_status  \n",
       "5553                  Colonial Bent, Colonial Bentgrass                 NaN  \n",
       "2132                                  Rhode Island Bent                 NaN  \n",
       "5554                Black Bent, Redtop, Water Bentgrass                 NaN  \n",
       "2134                                             Redtop                 NaN  \n",
       "4178               Arctic Bentgrass, Northern Bentgrass                 NaN  \n",
       "...                                                 ...                 ...  \n",
       "5643  Foxtail Fescue, Rattail Fescue, Rat-Tail Fescu...                 NaN  \n",
       "4290  Eight-Flower Six-Weeks Grass, Pullout Grass, S...                 NaN  \n",
       "2331                                      Annual Fescue                 NaN  \n",
       "632                                   Golden Alexanders                 NaN  \n",
       "3347  Heartleaf Alexanders, Heart-Leaf Alexanders, M...                 NaN  \n",
       "\n",
       "[552 rows x 4 columns]"
      ]
     },
     "execution_count": 16,
     "metadata": {},
     "output_type": "execute_result"
    }
   ],
   "source": [
    "species_scinames_dup = species_info_cleaned[species_info_cleaned\\\n",
    "                                            .duplicated(subset=['scientific_name', 'conservation_status'],\n",
    "                                                                            keep=False)]\\\n",
    "                        .sort_values('scientific_name')\n",
    "\n",
    "\n",
    "# species_scinames_dup.scientific_name.unique()\n",
    "species_scinames_dup"
   ]
  },
  {
   "cell_type": "code",
   "execution_count": 17,
   "id": "17986f34",
   "metadata": {},
   "outputs": [
    {
     "data": {
      "text/html": [
       "<div>\n",
       "<style scoped>\n",
       "    .dataframe tbody tr th:only-of-type {\n",
       "        vertical-align: middle;\n",
       "    }\n",
       "\n",
       "    .dataframe tbody tr th {\n",
       "        vertical-align: top;\n",
       "    }\n",
       "\n",
       "    .dataframe thead th {\n",
       "        text-align: right;\n",
       "    }\n",
       "</style>\n",
       "<table border=\"1\" class=\"dataframe\">\n",
       "  <thead>\n",
       "    <tr style=\"text-align: right;\">\n",
       "      <th></th>\n",
       "      <th>category</th>\n",
       "      <th>scientific_name</th>\n",
       "      <th>common_names</th>\n",
       "      <th>conservation_status</th>\n",
       "    </tr>\n",
       "  </thead>\n",
       "  <tbody>\n",
       "  </tbody>\n",
       "</table>\n",
       "</div>"
      ],
      "text/plain": [
       "Empty DataFrame\n",
       "Columns: [category, scientific_name, common_names, conservation_status]\n",
       "Index: []"
      ]
     },
     "execution_count": 17,
     "metadata": {},
     "output_type": "execute_result"
    }
   ],
   "source": [
    "species_info_cleaned = species_info_cleaned\\\n",
    "                        .drop_duplicates(subset=['scientific_name', 'conservation_status'])\n",
    "\n",
    "# species_info_cleaned.shape\n",
    "species_info_cleaned[species_info_cleaned\\\n",
    "                     .duplicated(subset=['scientific_name', 'conservation_status'],\n",
    "                                 keep=False)]"
   ]
  },
  {
   "cell_type": "markdown",
   "id": "b84d2b04",
   "metadata": {},
   "source": [
    "#### `observations` DataFrame"
   ]
  },
  {
   "cell_type": "code",
   "execution_count": 18,
   "id": "9994129e",
   "metadata": {
    "scrolled": true
   },
   "outputs": [
    {
     "data": {
      "text/html": [
       "<div>\n",
       "<style scoped>\n",
       "    .dataframe tbody tr th:only-of-type {\n",
       "        vertical-align: middle;\n",
       "    }\n",
       "\n",
       "    .dataframe tbody tr th {\n",
       "        vertical-align: top;\n",
       "    }\n",
       "\n",
       "    .dataframe thead th {\n",
       "        text-align: right;\n",
       "    }\n",
       "</style>\n",
       "<table border=\"1\" class=\"dataframe\">\n",
       "  <thead>\n",
       "    <tr style=\"text-align: right;\">\n",
       "      <th></th>\n",
       "      <th>scientific_name</th>\n",
       "      <th>park_name</th>\n",
       "      <th>observations</th>\n",
       "    </tr>\n",
       "  </thead>\n",
       "  <tbody>\n",
       "    <tr>\n",
       "      <th>0</th>\n",
       "      <td>Vicia benghalensis</td>\n",
       "      <td>Great Smoky Mountains National Park</td>\n",
       "      <td>68</td>\n",
       "    </tr>\n",
       "    <tr>\n",
       "      <th>1</th>\n",
       "      <td>Neovison vison</td>\n",
       "      <td>Great Smoky Mountains National Park</td>\n",
       "      <td>77</td>\n",
       "    </tr>\n",
       "    <tr>\n",
       "      <th>2</th>\n",
       "      <td>Prunus subcordata</td>\n",
       "      <td>Yosemite National Park</td>\n",
       "      <td>138</td>\n",
       "    </tr>\n",
       "    <tr>\n",
       "      <th>3</th>\n",
       "      <td>Abutilon theophrasti</td>\n",
       "      <td>Bryce National Park</td>\n",
       "      <td>84</td>\n",
       "    </tr>\n",
       "    <tr>\n",
       "      <th>4</th>\n",
       "      <td>Githopsis specularioides</td>\n",
       "      <td>Great Smoky Mountains National Park</td>\n",
       "      <td>85</td>\n",
       "    </tr>\n",
       "  </tbody>\n",
       "</table>\n",
       "</div>"
      ],
      "text/plain": [
       "            scientific_name                            park_name  observations\n",
       "0        Vicia benghalensis  Great Smoky Mountains National Park            68\n",
       "1            Neovison vison  Great Smoky Mountains National Park            77\n",
       "2         Prunus subcordata               Yosemite National Park           138\n",
       "3      Abutilon theophrasti                  Bryce National Park            84\n",
       "4  Githopsis specularioides  Great Smoky Mountains National Park            85"
      ]
     },
     "execution_count": 18,
     "metadata": {},
     "output_type": "execute_result"
    }
   ],
   "source": [
    "observations.head()"
   ]
  },
  {
   "cell_type": "code",
   "execution_count": 19,
   "id": "d1288ecf",
   "metadata": {
    "scrolled": true
   },
   "outputs": [
    {
     "name": "stdout",
     "output_type": "stream",
     "text": [
      "<class 'pandas.core.frame.DataFrame'>\n",
      "RangeIndex: 23296 entries, 0 to 23295\n",
      "Data columns (total 3 columns):\n",
      " #   Column           Non-Null Count  Dtype \n",
      "---  ------           --------------  ----- \n",
      " 0   scientific_name  23296 non-null  object\n",
      " 1   park_name        23296 non-null  object\n",
      " 2   observations     23296 non-null  int64 \n",
      "dtypes: int64(1), object(2)\n",
      "memory usage: 546.1+ KB\n"
     ]
    }
   ],
   "source": [
    "observations.info()"
   ]
  },
  {
   "cell_type": "code",
   "execution_count": 20,
   "id": "7f567c62",
   "metadata": {
    "scrolled": true
   },
   "outputs": [
    {
     "data": {
      "text/html": [
       "<div>\n",
       "<style scoped>\n",
       "    .dataframe tbody tr th:only-of-type {\n",
       "        vertical-align: middle;\n",
       "    }\n",
       "\n",
       "    .dataframe tbody tr th {\n",
       "        vertical-align: top;\n",
       "    }\n",
       "\n",
       "    .dataframe thead th {\n",
       "        text-align: right;\n",
       "    }\n",
       "</style>\n",
       "<table border=\"1\" class=\"dataframe\">\n",
       "  <thead>\n",
       "    <tr style=\"text-align: right;\">\n",
       "      <th></th>\n",
       "      <th>observations</th>\n",
       "    </tr>\n",
       "  </thead>\n",
       "  <tbody>\n",
       "    <tr>\n",
       "      <th>count</th>\n",
       "      <td>23296.000000</td>\n",
       "    </tr>\n",
       "    <tr>\n",
       "      <th>mean</th>\n",
       "      <td>142.287904</td>\n",
       "    </tr>\n",
       "    <tr>\n",
       "      <th>std</th>\n",
       "      <td>69.890532</td>\n",
       "    </tr>\n",
       "    <tr>\n",
       "      <th>min</th>\n",
       "      <td>9.000000</td>\n",
       "    </tr>\n",
       "    <tr>\n",
       "      <th>25%</th>\n",
       "      <td>86.000000</td>\n",
       "    </tr>\n",
       "    <tr>\n",
       "      <th>50%</th>\n",
       "      <td>124.000000</td>\n",
       "    </tr>\n",
       "    <tr>\n",
       "      <th>75%</th>\n",
       "      <td>195.000000</td>\n",
       "    </tr>\n",
       "    <tr>\n",
       "      <th>max</th>\n",
       "      <td>321.000000</td>\n",
       "    </tr>\n",
       "  </tbody>\n",
       "</table>\n",
       "</div>"
      ],
      "text/plain": [
       "       observations\n",
       "count  23296.000000\n",
       "mean     142.287904\n",
       "std       69.890532\n",
       "min        9.000000\n",
       "25%       86.000000\n",
       "50%      124.000000\n",
       "75%      195.000000\n",
       "max      321.000000"
      ]
     },
     "execution_count": 20,
     "metadata": {},
     "output_type": "execute_result"
    }
   ],
   "source": [
    "observations.describe()"
   ]
  },
  {
   "cell_type": "code",
   "execution_count": 21,
   "id": "38db55c5",
   "metadata": {
    "scrolled": true
   },
   "outputs": [
    {
     "data": {
      "text/plain": [
       "Myotis lucifugus          12\n",
       "Canis lupus               12\n",
       "Puma concolor             12\n",
       "Procyon lotor             12\n",
       "Castor canadensis         12\n",
       "                          ..\n",
       "Carex canescens            4\n",
       "Achnatherum contractum     4\n",
       "Esox masquinongy           4\n",
       "Lysimachia terrestris      4\n",
       "Hieracium paniculatum      4\n",
       "Name: scientific_name, Length: 5541, dtype: int64"
      ]
     },
     "execution_count": 21,
     "metadata": {},
     "output_type": "execute_result"
    }
   ],
   "source": [
    "observations.scientific_name.value_counts()"
   ]
  },
  {
   "cell_type": "code",
   "execution_count": 22,
   "id": "9cec5dc9",
   "metadata": {
    "scrolled": true
   },
   "outputs": [
    {
     "data": {
      "text/plain": [
       "Yosemite National Park                 5824\n",
       "Great Smoky Mountains National Park    5824\n",
       "Bryce National Park                    5824\n",
       "Yellowstone National Park              5824\n",
       "Name: park_name, dtype: int64"
      ]
     },
     "execution_count": 22,
     "metadata": {},
     "output_type": "execute_result"
    }
   ],
   "source": [
    "observations.park_name.value_counts()"
   ]
  },
  {
   "cell_type": "markdown",
   "id": "5355d25b",
   "metadata": {},
   "source": [
    "##### Missing\n",
    "There are no missing values."
   ]
  },
  {
   "cell_type": "code",
   "execution_count": 23,
   "id": "83da52d3",
   "metadata": {
    "scrolled": true
   },
   "outputs": [
    {
     "data": {
      "text/plain": [
       "scientific_name    0\n",
       "park_name          0\n",
       "observations       0\n",
       "dtype: int64"
      ]
     },
     "execution_count": 23,
     "metadata": {},
     "output_type": "execute_result"
    }
   ],
   "source": [
    "observations.isna().sum()"
   ]
  },
  {
   "cell_type": "markdown",
   "id": "23ec6070",
   "metadata": {},
   "source": [
    "##### Duplicates\n",
    "For a given park, some species had multiple observations. 1060 species were observed twice at the same park, and 36 were observed thrice at the same park (21,068 species were only observed once at the same park). \n",
    "\n",
    "It is possible that these observations were taken at different times, under different conditions. From the `species_info` dataset, it is also possible that the same scientific name refers to different subspecies. However, these attributes are difficult to impute. \n",
    "\n",
    "Instead, we can consider all `observations` by taking the mean of each species, at each park."
   ]
  },
  {
   "cell_type": "code",
   "execution_count": 24,
   "id": "8c79858b",
   "metadata": {
    "scrolled": false
   },
   "outputs": [
    {
     "data": {
      "text/html": [
       "<div>\n",
       "<style scoped>\n",
       "    .dataframe tbody tr th:only-of-type {\n",
       "        vertical-align: middle;\n",
       "    }\n",
       "\n",
       "    .dataframe tbody tr th {\n",
       "        vertical-align: top;\n",
       "    }\n",
       "\n",
       "    .dataframe thead th {\n",
       "        text-align: right;\n",
       "    }\n",
       "</style>\n",
       "<table border=\"1\" class=\"dataframe\">\n",
       "  <thead>\n",
       "    <tr style=\"text-align: right;\">\n",
       "      <th></th>\n",
       "      <th>scientific_name</th>\n",
       "      <th>park_name</th>\n",
       "      <th>observations</th>\n",
       "    </tr>\n",
       "  </thead>\n",
       "  <tbody>\n",
       "    <tr>\n",
       "      <th>3993</th>\n",
       "      <td>Agrostis capillaris</td>\n",
       "      <td>Bryce National Park</td>\n",
       "      <td>103</td>\n",
       "    </tr>\n",
       "    <tr>\n",
       "      <th>4864</th>\n",
       "      <td>Agrostis capillaris</td>\n",
       "      <td>Bryce National Park</td>\n",
       "      <td>105</td>\n",
       "    </tr>\n",
       "    <tr>\n",
       "      <th>792</th>\n",
       "      <td>Agrostis capillaris</td>\n",
       "      <td>Great Smoky Mountains National Park</td>\n",
       "      <td>84</td>\n",
       "    </tr>\n",
       "    <tr>\n",
       "      <th>17428</th>\n",
       "      <td>Agrostis capillaris</td>\n",
       "      <td>Great Smoky Mountains National Park</td>\n",
       "      <td>97</td>\n",
       "    </tr>\n",
       "    <tr>\n",
       "      <th>6166</th>\n",
       "      <td>Agrostis capillaris</td>\n",
       "      <td>Yellowstone National Park</td>\n",
       "      <td>241</td>\n",
       "    </tr>\n",
       "    <tr>\n",
       "      <th>...</th>\n",
       "      <td>...</td>\n",
       "      <td>...</td>\n",
       "      <td>...</td>\n",
       "    </tr>\n",
       "    <tr>\n",
       "      <th>11138</th>\n",
       "      <td>Zizia aptera</td>\n",
       "      <td>Great Smoky Mountains National Park</td>\n",
       "      <td>41</td>\n",
       "    </tr>\n",
       "    <tr>\n",
       "      <th>6963</th>\n",
       "      <td>Zizia aptera</td>\n",
       "      <td>Yellowstone National Park</td>\n",
       "      <td>257</td>\n",
       "    </tr>\n",
       "    <tr>\n",
       "      <th>17162</th>\n",
       "      <td>Zizia aptera</td>\n",
       "      <td>Yellowstone National Park</td>\n",
       "      <td>269</td>\n",
       "    </tr>\n",
       "    <tr>\n",
       "      <th>8445</th>\n",
       "      <td>Zizia aptera</td>\n",
       "      <td>Yosemite National Park</td>\n",
       "      <td>123</td>\n",
       "    </tr>\n",
       "    <tr>\n",
       "      <th>14300</th>\n",
       "      <td>Zizia aptera</td>\n",
       "      <td>Yosemite National Park</td>\n",
       "      <td>129</td>\n",
       "    </tr>\n",
       "  </tbody>\n",
       "</table>\n",
       "<p>2228 rows × 3 columns</p>\n",
       "</div>"
      ],
      "text/plain": [
       "           scientific_name                            park_name  observations\n",
       "3993   Agrostis capillaris                  Bryce National Park           103\n",
       "4864   Agrostis capillaris                  Bryce National Park           105\n",
       "792    Agrostis capillaris  Great Smoky Mountains National Park            84\n",
       "17428  Agrostis capillaris  Great Smoky Mountains National Park            97\n",
       "6166   Agrostis capillaris            Yellowstone National Park           241\n",
       "...                    ...                                  ...           ...\n",
       "11138         Zizia aptera  Great Smoky Mountains National Park            41\n",
       "6963          Zizia aptera            Yellowstone National Park           257\n",
       "17162         Zizia aptera            Yellowstone National Park           269\n",
       "8445          Zizia aptera               Yosemite National Park           123\n",
       "14300         Zizia aptera               Yosemite National Park           129\n",
       "\n",
       "[2228 rows x 3 columns]"
      ]
     },
     "execution_count": 24,
     "metadata": {},
     "output_type": "execute_result"
    }
   ],
   "source": [
    "# showing all duplicated rows where the same species, at the same park, was observed on multiple occasions\n",
    "observations_dup = observations[observations.duplicated(subset=['scientific_name', 'park_name'], keep=False)]\\\n",
    "                        .sort_values(['scientific_name', 'park_name'])\n",
    "\n",
    "observations_dup"
   ]
  },
  {
   "cell_type": "code",
   "execution_count": 25,
   "id": "ed7b45e9",
   "metadata": {},
   "outputs": [
    {
     "data": {
      "text/plain": [
       "1    21068\n",
       "2     1060\n",
       "3       36\n",
       "Name: observations, dtype: int64"
      ]
     },
     "execution_count": 25,
     "metadata": {},
     "output_type": "execute_result"
    }
   ],
   "source": [
    "# for the species observed at the same park, multiple times, finding out the number of times they were observed:\n",
    "observations_dup_count = observations.groupby(['scientific_name', 'park_name']).count()\n",
    "\n",
    "# observations_dup_count[observations_dup_count.observations!=2]\n",
    "observations_dup_count.observations.value_counts()"
   ]
  },
  {
   "cell_type": "code",
   "execution_count": 26,
   "id": "25222c27",
   "metadata": {
    "scrolled": true
   },
   "outputs": [
    {
     "data": {
      "text/html": [
       "<div>\n",
       "<style scoped>\n",
       "    .dataframe tbody tr th:only-of-type {\n",
       "        vertical-align: middle;\n",
       "    }\n",
       "\n",
       "    .dataframe tbody tr th {\n",
       "        vertical-align: top;\n",
       "    }\n",
       "\n",
       "    .dataframe thead th {\n",
       "        text-align: right;\n",
       "    }\n",
       "</style>\n",
       "<table border=\"1\" class=\"dataframe\">\n",
       "  <thead>\n",
       "    <tr style=\"text-align: right;\">\n",
       "      <th></th>\n",
       "      <th>scientific_name</th>\n",
       "      <th>park_name</th>\n",
       "      <th>mean_observations</th>\n",
       "    </tr>\n",
       "  </thead>\n",
       "  <tbody>\n",
       "    <tr>\n",
       "      <th>0</th>\n",
       "      <td>Abies bifolia</td>\n",
       "      <td>Bryce National Park</td>\n",
       "      <td>109.0</td>\n",
       "    </tr>\n",
       "    <tr>\n",
       "      <th>1</th>\n",
       "      <td>Abies bifolia</td>\n",
       "      <td>Great Smoky Mountains National Park</td>\n",
       "      <td>72.0</td>\n",
       "    </tr>\n",
       "    <tr>\n",
       "      <th>2</th>\n",
       "      <td>Abies bifolia</td>\n",
       "      <td>Yellowstone National Park</td>\n",
       "      <td>215.0</td>\n",
       "    </tr>\n",
       "    <tr>\n",
       "      <th>3</th>\n",
       "      <td>Abies bifolia</td>\n",
       "      <td>Yosemite National Park</td>\n",
       "      <td>136.0</td>\n",
       "    </tr>\n",
       "    <tr>\n",
       "      <th>4</th>\n",
       "      <td>Abies concolor</td>\n",
       "      <td>Bryce National Park</td>\n",
       "      <td>83.0</td>\n",
       "    </tr>\n",
       "    <tr>\n",
       "      <th>...</th>\n",
       "      <td>...</td>\n",
       "      <td>...</td>\n",
       "      <td>...</td>\n",
       "    </tr>\n",
       "    <tr>\n",
       "      <th>22159</th>\n",
       "      <td>Zygodon viridissimus</td>\n",
       "      <td>Yosemite National Park</td>\n",
       "      <td>159.0</td>\n",
       "    </tr>\n",
       "    <tr>\n",
       "      <th>22160</th>\n",
       "      <td>Zygodon viridissimus var. rupestris</td>\n",
       "      <td>Bryce National Park</td>\n",
       "      <td>102.0</td>\n",
       "    </tr>\n",
       "    <tr>\n",
       "      <th>22161</th>\n",
       "      <td>Zygodon viridissimus var. rupestris</td>\n",
       "      <td>Great Smoky Mountains National Park</td>\n",
       "      <td>102.0</td>\n",
       "    </tr>\n",
       "    <tr>\n",
       "      <th>22162</th>\n",
       "      <td>Zygodon viridissimus var. rupestris</td>\n",
       "      <td>Yellowstone National Park</td>\n",
       "      <td>237.0</td>\n",
       "    </tr>\n",
       "    <tr>\n",
       "      <th>22163</th>\n",
       "      <td>Zygodon viridissimus var. rupestris</td>\n",
       "      <td>Yosemite National Park</td>\n",
       "      <td>210.0</td>\n",
       "    </tr>\n",
       "  </tbody>\n",
       "</table>\n",
       "<p>22164 rows × 3 columns</p>\n",
       "</div>"
      ],
      "text/plain": [
       "                           scientific_name  \\\n",
       "0                            Abies bifolia   \n",
       "1                            Abies bifolia   \n",
       "2                            Abies bifolia   \n",
       "3                            Abies bifolia   \n",
       "4                           Abies concolor   \n",
       "...                                    ...   \n",
       "22159                 Zygodon viridissimus   \n",
       "22160  Zygodon viridissimus var. rupestris   \n",
       "22161  Zygodon viridissimus var. rupestris   \n",
       "22162  Zygodon viridissimus var. rupestris   \n",
       "22163  Zygodon viridissimus var. rupestris   \n",
       "\n",
       "                                 park_name  mean_observations  \n",
       "0                      Bryce National Park              109.0  \n",
       "1      Great Smoky Mountains National Park               72.0  \n",
       "2                Yellowstone National Park              215.0  \n",
       "3                   Yosemite National Park              136.0  \n",
       "4                      Bryce National Park               83.0  \n",
       "...                                    ...                ...  \n",
       "22159               Yosemite National Park              159.0  \n",
       "22160                  Bryce National Park              102.0  \n",
       "22161  Great Smoky Mountains National Park              102.0  \n",
       "22162            Yellowstone National Park              237.0  \n",
       "22163               Yosemite National Park              210.0  \n",
       "\n",
       "[22164 rows x 3 columns]"
      ]
     },
     "execution_count": 26,
     "metadata": {},
     "output_type": "execute_result"
    }
   ],
   "source": [
    "# taking the mean observations for each species, at each park\n",
    "observations_summarised = observations\\\n",
    "                            .groupby(['scientific_name', 'park_name']).observations.mean()\\\n",
    "                            .reset_index()\\\n",
    "                            .rename({'observations': 'mean_observations'}, axis='columns') # renaming column\n",
    "\n",
    "observations_summarised"
   ]
  },
  {
   "cell_type": "markdown",
   "id": "df23429b",
   "metadata": {},
   "source": [
    "## Exploring Data"
   ]
  },
  {
   "cell_type": "markdown",
   "id": "e4f04f7f",
   "metadata": {},
   "source": [
    "### Which species categories have the highest 'endangered' status (counts of distinct species)?\n",
    "((note that it might be more valuable to look at actual observed numbers!!!))"
   ]
  },
  {
   "cell_type": "code",
   "execution_count": 27,
   "id": "bc61220a",
   "metadata": {},
   "outputs": [
    {
     "data": {
      "text/html": [
       "<div>\n",
       "<style scoped>\n",
       "    .dataframe tbody tr th:only-of-type {\n",
       "        vertical-align: middle;\n",
       "    }\n",
       "\n",
       "    .dataframe tbody tr th {\n",
       "        vertical-align: top;\n",
       "    }\n",
       "\n",
       "    .dataframe thead th {\n",
       "        text-align: right;\n",
       "    }\n",
       "</style>\n",
       "<table border=\"1\" class=\"dataframe\">\n",
       "  <thead>\n",
       "    <tr style=\"text-align: right;\">\n",
       "      <th>conservation_status</th>\n",
       "      <th>Endangered</th>\n",
       "      <th>Threatened</th>\n",
       "      <th>Species of Concern</th>\n",
       "      <th>In Recovery</th>\n",
       "    </tr>\n",
       "    <tr>\n",
       "      <th>category</th>\n",
       "      <th></th>\n",
       "      <th></th>\n",
       "      <th></th>\n",
       "      <th></th>\n",
       "    </tr>\n",
       "  </thead>\n",
       "  <tbody>\n",
       "    <tr>\n",
       "      <th>Amphibian</th>\n",
       "      <td>1.0</td>\n",
       "      <td>2.0</td>\n",
       "      <td>4.0</td>\n",
       "      <td>NaN</td>\n",
       "    </tr>\n",
       "    <tr>\n",
       "      <th>Bird</th>\n",
       "      <td>4.0</td>\n",
       "      <td>NaN</td>\n",
       "      <td>68.0</td>\n",
       "      <td>3.0</td>\n",
       "    </tr>\n",
       "    <tr>\n",
       "      <th>Fish</th>\n",
       "      <td>4.0</td>\n",
       "      <td>4.0</td>\n",
       "      <td>4.0</td>\n",
       "      <td>NaN</td>\n",
       "    </tr>\n",
       "    <tr>\n",
       "      <th>Mammal</th>\n",
       "      <td>6.0</td>\n",
       "      <td>2.0</td>\n",
       "      <td>22.0</td>\n",
       "      <td>1.0</td>\n",
       "    </tr>\n",
       "    <tr>\n",
       "      <th>Reptile</th>\n",
       "      <td>NaN</td>\n",
       "      <td>NaN</td>\n",
       "      <td>5.0</td>\n",
       "      <td>NaN</td>\n",
       "    </tr>\n",
       "    <tr>\n",
       "      <th>Nonvascular Plant</th>\n",
       "      <td>NaN</td>\n",
       "      <td>NaN</td>\n",
       "      <td>5.0</td>\n",
       "      <td>NaN</td>\n",
       "    </tr>\n",
       "    <tr>\n",
       "      <th>Vascular Plant</th>\n",
       "      <td>1.0</td>\n",
       "      <td>2.0</td>\n",
       "      <td>43.0</td>\n",
       "      <td>NaN</td>\n",
       "    </tr>\n",
       "  </tbody>\n",
       "</table>\n",
       "</div>"
      ],
      "text/plain": [
       "conservation_status  Endangered  Threatened  Species of Concern  In Recovery\n",
       "category                                                                    \n",
       "Amphibian                   1.0         2.0                 4.0          NaN\n",
       "Bird                        4.0         NaN                68.0          3.0\n",
       "Fish                        4.0         4.0                 4.0          NaN\n",
       "Mammal                      6.0         2.0                22.0          1.0\n",
       "Reptile                     NaN         NaN                 5.0          NaN\n",
       "Nonvascular Plant           NaN         NaN                 5.0          NaN\n",
       "Vascular Plant              1.0         2.0                43.0          NaN"
      ]
     },
     "execution_count": 27,
     "metadata": {},
     "output_type": "execute_result"
    }
   ],
   "source": [
    "# creating Dataframe counting conservation status\n",
    "species_count_df = species_info_cleaned.groupby(['category', 'conservation_status'])\\\n",
    "                    .size()\\\n",
    "                    .reset_index()\\\n",
    "                    .pivot(columns='conservation_status', index='category', values=0)\n",
    "\n",
    "# changing order of columns\n",
    "species_count_df = species_count_df[['Endangered', 'Threatened', 'Species of Concern', 'In Recovery']]\n",
    "\n",
    "# changing order of rows (### ADD TO NOTES)\n",
    "species_count_df = species_count_df.reindex([\n",
    "                    'Amphibian', 'Bird', 'Fish', 'Mammal', 'Reptile', 'Nonvascular Plant', 'Vascular Plant'])\n",
    "\n",
    "species_count_df"
   ]
  },
  {
   "cell_type": "code",
   "execution_count": 30,
   "id": "920a41ce",
   "metadata": {
    "scrolled": true
   },
   "outputs": [
    {
     "data": {
      "image/png": "[encoded data removed]",
      "text/plain": [
       "<Figure size 864x576 with 1 Axes>"
      ]
     },
     "metadata": {},
     "output_type": "display_data"
    },
    {
     "data": {
      "text/plain": [
       "<Figure size 432x288 with 0 Axes>"
      ]
     },
     "metadata": {},
     "output_type": "display_data"
    }
   ],
   "source": [
    "# styling\n",
    "sns.set_style('dark')\n",
    "sns.set_palette('bright')\n",
    "sns.set_context('talk')\n",
    "\n",
    "colors = sns.color_palette('OrRd_r', 4) ### ADDING _r suffix REVERSES THE ORDER -- ADD TO NOTES!\n",
    "\n",
    "# plotting\n",
    "### ADD TO NOTES!\n",
    "species_stackedbar = species_count_df.plot(kind='bar', stacked=True, figsize=(12,8), color=colors)\n",
    "# sns.despine()\n",
    "\n",
    "# editing legend\n",
    "### NEED TO ADD THE FOLLOWING TO NOTES! https://www.dataforeverybody.com/seaborn-legend-change-location-size/\n",
    "species_stackedbar.legend(title='Conservation Status', facecolor='white')\n",
    "\n",
    "# labelling\n",
    "species_stackedbar.set(xlabel='Category', ylabel='Distinct Species', title='Conservation Status') ### ADD TO NOTES!\n",
    "# plt.xticks(rotation=90)\n",
    "\n",
    "plt.show()\n",
    "plt.clf()"
   ]
  },
  {
   "cell_type": "code",
   "execution_count": null,
   "id": "938e0afd",
   "metadata": {},
   "outputs": [],
   "source": [
    "# filtering only `endangered` status\n",
    "species_stackedbar_endangered = "
   ]
  },
  {
   "cell_type": "code",
   "execution_count": 29,
   "id": "d23019b9",
   "metadata": {
    "scrolled": false
   },
   "outputs": [],
   "source": [
    "# # styling\n",
    "# sns.set_style('whitegrid')\n",
    "# sns.set_palette('bright')\n",
    "\n",
    "# # plotting\n",
    "# ax = plt.subplots(figsize=(9,7))\n",
    "# cat_count = sns.countplot(x='category', hue='conservation_status', data=species_info_cleaned)\n",
    "\n",
    "# # labelling\n",
    "# cat_count.set(xlabel='Category', ylabel='Count of Species', title='Conservation Status')\n",
    "# plt.xticks(rotation=90)\n",
    "\n",
    "# # editing legend\n",
    "# ### NEED TO ADD THE FOLLOWING TO NOTES! https://www.dataforeverybody.com/seaborn-legend-change-location-size/\n",
    "# cat_count.legend(loc='upper right',\\\n",
    "#                 title='Conservation Status')\n",
    "\n",
    "# plt.show()\n",
    "# plt.clf()"
   ]
  },
  {
   "cell_type": "markdown",
   "id": "e4d57ccb",
   "metadata": {},
   "source": [
    "### Category most prevalent of 'endangered' status\n",
    "(May want to also look at the other status too)"
   ]
  },
  {
   "cell_type": "code",
   "execution_count": null,
   "id": "30c2b51c",
   "metadata": {},
   "outputs": [],
   "source": []
  },
  {
   "cell_type": "markdown",
   "id": "8c205375",
   "metadata": {},
   "source": [
    "### Relationship between 'endangered' status and observations #?"
   ]
  },
  {
   "cell_type": "markdown",
   "id": "6d467213",
   "metadata": {},
   "source": [
    "### Using observations (and definitions of 'endangered'), predicting the next endangered species"
   ]
  }
 ],
 "metadata": {
  "kernelspec": {
   "display_name": "Python 3",
   "language": "python",
   "name": "python3"
  },
  "language_info": {
   "codemirror_mode": {
    "name": "ipython",
    "version": 3
   },
   "file_extension": ".py",
   "mimetype": "text/x-python",
   "name": "python",
   "nbconvert_exporter": "python",
   "pygments_lexer": "ipython3",
   "version": "3.8.8"
  }
 },
 "nbformat": 4,
 "nbformat_minor": 5
}
